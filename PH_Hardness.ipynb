{
  "nbformat": 4,
  "nbformat_minor": 0,
  "metadata": {
    "colab": {
      "provenance": [],
      "collapsed_sections": [],
      "include_colab_link": true
    },
    "kernelspec": {
      "name": "python3",
      "display_name": "Python 3"
    },
    "language_info": {
      "name": "python"
    }
  },
  "cells": [
    {
      "cell_type": "markdown",
      "metadata": {
        "id": "view-in-github",
        "colab_type": "text"
      },
      "source": [
        "<a href=\"https://colab.research.google.com/github/sunil1206/Data-science-mini-projects/blob/main/PH_Hardness.ipynb\" target=\"_parent\"><img src=\"https://colab.research.google.com/assets/colab-badge.svg\" alt=\"Open In Colab\"/></a>"
      ]
    },
    {
      "cell_type": "code",
      "metadata": {
        "id": "x6VzwfqIosfd",
        "colab": {
          "base_uri": "https://localhost:8080/",
          "height": 443
        },
        "outputId": "cbddc0ac-c61f-48d8-c47d-527f6c4f69d6"
      },
      "source": [
        "import pandas as pd\n",
        "df = pd.read_csv(\"/content/Week_7_Activity_data.csv\")\n",
        "df"
      ],
      "execution_count": null,
      "outputs": [
        {
          "output_type": "execute_result",
          "data": {
            "text/html": [
              "<div>\n",
              "<style scoped>\n",
              "    .dataframe tbody tr th:only-of-type {\n",
              "        vertical-align: middle;\n",
              "    }\n",
              "\n",
              "    .dataframe tbody tr th {\n",
              "        vertical-align: top;\n",
              "    }\n",
              "\n",
              "    .dataframe thead th {\n",
              "        text-align: right;\n",
              "    }\n",
              "</style>\n",
              "<table border=\"1\" class=\"dataframe\">\n",
              "  <thead>\n",
              "    <tr style=\"text-align: right;\">\n",
              "      <th></th>\n",
              "      <th>ph</th>\n",
              "      <th>Hardness</th>\n",
              "      <th>Solids</th>\n",
              "      <th>Chloramines</th>\n",
              "      <th>Sulfate</th>\n",
              "      <th>Conductivity</th>\n",
              "      <th>Organic_carbon</th>\n",
              "      <th>Trihalomethanes</th>\n",
              "      <th>Turbidity</th>\n",
              "    </tr>\n",
              "  </thead>\n",
              "  <tbody>\n",
              "    <tr>\n",
              "      <th>0</th>\n",
              "      <td>8.316766</td>\n",
              "      <td>214.373394</td>\n",
              "      <td>22018.41744</td>\n",
              "      <td>8.059332</td>\n",
              "      <td>356.886136</td>\n",
              "      <td>363.266516</td>\n",
              "      <td>18.436525</td>\n",
              "      <td>100.341674</td>\n",
              "      <td>4.628771</td>\n",
              "    </tr>\n",
              "    <tr>\n",
              "      <th>1</th>\n",
              "      <td>9.092223</td>\n",
              "      <td>181.101509</td>\n",
              "      <td>17978.98634</td>\n",
              "      <td>6.546600</td>\n",
              "      <td>310.135738</td>\n",
              "      <td>398.410813</td>\n",
              "      <td>11.558279</td>\n",
              "      <td>31.997993</td>\n",
              "      <td>4.075075</td>\n",
              "    </tr>\n",
              "    <tr>\n",
              "      <th>2</th>\n",
              "      <td>5.584087</td>\n",
              "      <td>188.313324</td>\n",
              "      <td>28748.68774</td>\n",
              "      <td>7.544869</td>\n",
              "      <td>326.678363</td>\n",
              "      <td>280.467916</td>\n",
              "      <td>8.399735</td>\n",
              "      <td>54.917862</td>\n",
              "      <td>2.559708</td>\n",
              "    </tr>\n",
              "    <tr>\n",
              "      <th>3</th>\n",
              "      <td>10.223862</td>\n",
              "      <td>248.071735</td>\n",
              "      <td>28749.71654</td>\n",
              "      <td>7.513408</td>\n",
              "      <td>393.663396</td>\n",
              "      <td>283.651634</td>\n",
              "      <td>13.789695</td>\n",
              "      <td>84.603556</td>\n",
              "      <td>2.672989</td>\n",
              "    </tr>\n",
              "    <tr>\n",
              "      <th>4</th>\n",
              "      <td>8.635849</td>\n",
              "      <td>203.361523</td>\n",
              "      <td>13672.09176</td>\n",
              "      <td>4.563009</td>\n",
              "      <td>303.309771</td>\n",
              "      <td>474.607645</td>\n",
              "      <td>12.363817</td>\n",
              "      <td>62.798309</td>\n",
              "      <td>4.401425</td>\n",
              "    </tr>\n",
              "    <tr>\n",
              "      <th>...</th>\n",
              "      <td>...</td>\n",
              "      <td>...</td>\n",
              "      <td>...</td>\n",
              "      <td>...</td>\n",
              "      <td>...</td>\n",
              "      <td>...</td>\n",
              "      <td>...</td>\n",
              "      <td>...</td>\n",
              "      <td>...</td>\n",
              "    </tr>\n",
              "    <tr>\n",
              "      <th>2006</th>\n",
              "      <td>8.989900</td>\n",
              "      <td>215.047358</td>\n",
              "      <td>15921.41202</td>\n",
              "      <td>6.297312</td>\n",
              "      <td>312.931021</td>\n",
              "      <td>390.410231</td>\n",
              "      <td>9.899115</td>\n",
              "      <td>55.069304</td>\n",
              "      <td>4.613843</td>\n",
              "    </tr>\n",
              "    <tr>\n",
              "      <th>2007</th>\n",
              "      <td>6.702547</td>\n",
              "      <td>207.321086</td>\n",
              "      <td>17246.92035</td>\n",
              "      <td>7.708117</td>\n",
              "      <td>304.510230</td>\n",
              "      <td>329.266002</td>\n",
              "      <td>16.217303</td>\n",
              "      <td>28.878601</td>\n",
              "      <td>3.442983</td>\n",
              "    </tr>\n",
              "    <tr>\n",
              "      <th>2008</th>\n",
              "      <td>11.491011</td>\n",
              "      <td>94.812545</td>\n",
              "      <td>37188.82602</td>\n",
              "      <td>9.263166</td>\n",
              "      <td>258.930600</td>\n",
              "      <td>439.893618</td>\n",
              "      <td>16.172755</td>\n",
              "      <td>41.558501</td>\n",
              "      <td>4.369264</td>\n",
              "    </tr>\n",
              "    <tr>\n",
              "      <th>2009</th>\n",
              "      <td>6.069616</td>\n",
              "      <td>186.659040</td>\n",
              "      <td>26138.78019</td>\n",
              "      <td>7.747547</td>\n",
              "      <td>345.700257</td>\n",
              "      <td>415.886955</td>\n",
              "      <td>12.067620</td>\n",
              "      <td>60.419921</td>\n",
              "      <td>3.669712</td>\n",
              "    </tr>\n",
              "    <tr>\n",
              "      <th>2010</th>\n",
              "      <td>4.668102</td>\n",
              "      <td>193.681736</td>\n",
              "      <td>47580.99160</td>\n",
              "      <td>7.166639</td>\n",
              "      <td>359.948574</td>\n",
              "      <td>526.424171</td>\n",
              "      <td>13.894419</td>\n",
              "      <td>66.687695</td>\n",
              "      <td>4.435821</td>\n",
              "    </tr>\n",
              "  </tbody>\n",
              "</table>\n",
              "<p>2011 rows × 9 columns</p>\n",
              "</div>"
            ],
            "text/plain": [
              "             ph    Hardness  ...  Trihalomethanes  Turbidity\n",
              "0      8.316766  214.373394  ...       100.341674   4.628771\n",
              "1      9.092223  181.101509  ...        31.997993   4.075075\n",
              "2      5.584087  188.313324  ...        54.917862   2.559708\n",
              "3     10.223862  248.071735  ...        84.603556   2.672989\n",
              "4      8.635849  203.361523  ...        62.798309   4.401425\n",
              "...         ...         ...  ...              ...        ...\n",
              "2006   8.989900  215.047358  ...        55.069304   4.613843\n",
              "2007   6.702547  207.321086  ...        28.878601   3.442983\n",
              "2008  11.491011   94.812545  ...        41.558501   4.369264\n",
              "2009   6.069616  186.659040  ...        60.419921   3.669712\n",
              "2010   4.668102  193.681736  ...        66.687695   4.435821\n",
              "\n",
              "[2011 rows x 9 columns]"
            ]
          },
          "metadata": {},
          "execution_count": 6
        }
      ]
    },
    {
      "cell_type": "code",
      "metadata": {
        "colab": {
          "base_uri": "https://localhost:8080/"
        },
        "id": "85vdnrmhqMd6",
        "outputId": "12ddd989-0876-4340-ebf9-237aa4cc6b60"
      },
      "source": [
        "df.isnull().sum()    \n"
      ],
      "execution_count": null,
      "outputs": [
        {
          "output_type": "execute_result",
          "data": {
            "text/plain": [
              "ph                 0\n",
              "Hardness           0\n",
              "Solids             0\n",
              "Chloramines        0\n",
              "Sulfate            0\n",
              "Conductivity       0\n",
              "Organic_carbon     0\n",
              "Trihalomethanes    0\n",
              "Turbidity          0\n",
              "dtype: int64"
            ]
          },
          "metadata": {},
          "execution_count": 4
        }
      ]
    },
    {
      "cell_type": "code",
      "metadata": {
        "colab": {
          "base_uri": "https://localhost:8080/",
          "height": 320
        },
        "id": "7-IK1KJYz0CL",
        "outputId": "26e83fc3-b2f7-4188-dcca-0181cbf7c1f7"
      },
      "source": [
        "df.describe()"
      ],
      "execution_count": null,
      "outputs": [
        {
          "output_type": "execute_result",
          "data": {
            "text/html": [
              "<div>\n",
              "<style scoped>\n",
              "    .dataframe tbody tr th:only-of-type {\n",
              "        vertical-align: middle;\n",
              "    }\n",
              "\n",
              "    .dataframe tbody tr th {\n",
              "        vertical-align: top;\n",
              "    }\n",
              "\n",
              "    .dataframe thead th {\n",
              "        text-align: right;\n",
              "    }\n",
              "</style>\n",
              "<table border=\"1\" class=\"dataframe\">\n",
              "  <thead>\n",
              "    <tr style=\"text-align: right;\">\n",
              "      <th></th>\n",
              "      <th>ph</th>\n",
              "      <th>Hardness</th>\n",
              "      <th>Solids</th>\n",
              "      <th>Chloramines</th>\n",
              "      <th>Sulfate</th>\n",
              "      <th>Conductivity</th>\n",
              "      <th>Organic_carbon</th>\n",
              "      <th>Trihalomethanes</th>\n",
              "      <th>Turbidity</th>\n",
              "    </tr>\n",
              "  </thead>\n",
              "  <tbody>\n",
              "    <tr>\n",
              "      <th>count</th>\n",
              "      <td>2011.000000</td>\n",
              "      <td>2011.000000</td>\n",
              "      <td>2011.000000</td>\n",
              "      <td>2011.000000</td>\n",
              "      <td>2011.000000</td>\n",
              "      <td>2011.000000</td>\n",
              "      <td>2011.000000</td>\n",
              "      <td>2011.000000</td>\n",
              "      <td>2011.000000</td>\n",
              "    </tr>\n",
              "    <tr>\n",
              "      <th>mean</th>\n",
              "      <td>7.085990</td>\n",
              "      <td>195.968072</td>\n",
              "      <td>21917.441375</td>\n",
              "      <td>7.134338</td>\n",
              "      <td>333.224672</td>\n",
              "      <td>426.526409</td>\n",
              "      <td>14.357709</td>\n",
              "      <td>66.400859</td>\n",
              "      <td>3.969729</td>\n",
              "    </tr>\n",
              "    <tr>\n",
              "      <th>std</th>\n",
              "      <td>1.573337</td>\n",
              "      <td>32.635085</td>\n",
              "      <td>8642.239815</td>\n",
              "      <td>1.584820</td>\n",
              "      <td>41.205172</td>\n",
              "      <td>80.712572</td>\n",
              "      <td>3.324959</td>\n",
              "      <td>16.077109</td>\n",
              "      <td>0.780346</td>\n",
              "    </tr>\n",
              "    <tr>\n",
              "      <th>min</th>\n",
              "      <td>0.227499</td>\n",
              "      <td>73.492234</td>\n",
              "      <td>320.942611</td>\n",
              "      <td>1.390871</td>\n",
              "      <td>129.000000</td>\n",
              "      <td>201.619737</td>\n",
              "      <td>2.200000</td>\n",
              "      <td>8.577013</td>\n",
              "      <td>1.450000</td>\n",
              "    </tr>\n",
              "    <tr>\n",
              "      <th>25%</th>\n",
              "      <td>6.089723</td>\n",
              "      <td>176.744938</td>\n",
              "      <td>15615.665390</td>\n",
              "      <td>6.138895</td>\n",
              "      <td>307.632511</td>\n",
              "      <td>366.680307</td>\n",
              "      <td>12.124105</td>\n",
              "      <td>55.952664</td>\n",
              "      <td>3.442915</td>\n",
              "    </tr>\n",
              "    <tr>\n",
              "      <th>50%</th>\n",
              "      <td>7.027297</td>\n",
              "      <td>197.191839</td>\n",
              "      <td>20933.512750</td>\n",
              "      <td>7.143907</td>\n",
              "      <td>332.232177</td>\n",
              "      <td>423.455906</td>\n",
              "      <td>14.322019</td>\n",
              "      <td>66.542198</td>\n",
              "      <td>3.968177</td>\n",
              "    </tr>\n",
              "    <tr>\n",
              "      <th>75%</th>\n",
              "      <td>8.052969</td>\n",
              "      <td>216.441070</td>\n",
              "      <td>27182.587065</td>\n",
              "      <td>8.109726</td>\n",
              "      <td>359.330555</td>\n",
              "      <td>482.373169</td>\n",
              "      <td>16.683049</td>\n",
              "      <td>77.291925</td>\n",
              "      <td>4.514175</td>\n",
              "    </tr>\n",
              "    <tr>\n",
              "      <th>max</th>\n",
              "      <td>14.000000</td>\n",
              "      <td>317.338124</td>\n",
              "      <td>56488.672410</td>\n",
              "      <td>13.127000</td>\n",
              "      <td>481.030642</td>\n",
              "      <td>753.342620</td>\n",
              "      <td>27.006707</td>\n",
              "      <td>124.000000</td>\n",
              "      <td>6.494749</td>\n",
              "    </tr>\n",
              "  </tbody>\n",
              "</table>\n",
              "</div>"
            ],
            "text/plain": [
              "                ph     Hardness  ...  Trihalomethanes    Turbidity\n",
              "count  2011.000000  2011.000000  ...      2011.000000  2011.000000\n",
              "mean      7.085990   195.968072  ...        66.400859     3.969729\n",
              "std       1.573337    32.635085  ...        16.077109     0.780346\n",
              "min       0.227499    73.492234  ...         8.577013     1.450000\n",
              "25%       6.089723   176.744938  ...        55.952664     3.442915\n",
              "50%       7.027297   197.191839  ...        66.542198     3.968177\n",
              "75%       8.052969   216.441070  ...        77.291925     4.514175\n",
              "max      14.000000   317.338124  ...       124.000000     6.494749\n",
              "\n",
              "[8 rows x 9 columns]"
            ]
          },
          "metadata": {},
          "execution_count": 14
        }
      ]
    },
    {
      "cell_type": "code",
      "metadata": {
        "colab": {
          "base_uri": "https://localhost:8080/",
          "height": 262
        },
        "id": "pWF2UgWwtbDQ",
        "outputId": "9dad4d16-112f-4c4c-e768-c9e51225aaba"
      },
      "source": [
        "import matplotlib.pyplot as plt \n",
        "\n",
        "plt.figure(figsize=(12, 4))\n",
        "\n",
        "plt.scatter(df['Sulfate'], df['Hardness'], s=16, c='red', marker='*')\n",
        "plt.title('Hardness vs Sulfate', fontsize=16)\n",
        "plt.xlabel('Sulfate', fontsize=12)\n",
        "plt.ylabel('Hardness', fontsize=12)\n",
        "plt.show()"
      ],
      "execution_count": null,
      "outputs": [
        {
          "output_type": "display_data",
          "data": {
            "image/png": "[encoded data removed]",
            "text/plain": [
              "<Figure size 864x288 with 1 Axes>"
            ]
          },
          "metadata": {
            "needs_background": "light"
          }
        }
      ]
    },
    {
      "cell_type": "code",
      "metadata": {
        "colab": {
          "base_uri": "https://localhost:8080/",
          "height": 300
        },
        "id": "-Qb411Mpt736",
        "outputId": "5c9ce707-61cd-49c6-a80b-1482a8511b6e"
      },
      "source": [
        "import matplotlib.pyplot as plt \n",
        "\n",
        "plt.figure(figsize=(12, 4))\n",
        "\n",
        "plt.scatter(df['Hardness'], df['Organic_carbon'], s=16, c='red', marker='*')\n",
        "plt.title('Organic_carbon vs Hardness', fontsize=16)\n",
        "plt.xlabel('Hardness', fontsize=12)\n",
        "plt.ylabel('Organic_carbon', fontsize=12)\n",
        "plt.show()\n"
      ],
      "execution_count": null,
      "outputs": [
        {
          "output_type": "display_data",
          "data": {
            "image/png": "[encoded data removed]",
            "text/plain": [
              "<Figure size 864x288 with 1 Axes>"
            ]
          },
          "metadata": {
            "needs_background": "light"
          }
        }
      ]
    },
    {
      "cell_type": "code",
      "metadata": {
        "colab": {
          "base_uri": "https://localhost:8080/"
        },
        "id": "xTLxw5jvuuTT",
        "outputId": "44afb63d-0c10-4fc6-a318-f13222673bfe"
      },
      "source": [
        "corr = df.corr()\n",
        "print(corr)"
      ],
      "execution_count": null,
      "outputs": [
        {
          "output_type": "stream",
          "name": "stdout",
          "text": [
            "                       ph  Hardness  ...  Trihalomethanes  Turbidity\n",
            "ph               1.000000  0.108948  ...         0.018278  -0.035849\n",
            "Hardness         0.108948  1.000000  ...        -0.015400  -0.034831\n",
            "Solids          -0.087615 -0.053269  ...        -0.015668   0.019409\n",
            "Chloramines     -0.024768 -0.022685  ...         0.014990   0.013137\n",
            "Sulfate          0.010524 -0.108521  ...        -0.023347  -0.009934\n",
            "Conductivity     0.014128  0.011731  ...         0.004888   0.012495\n",
            "Organic_carbon   0.028375  0.013224  ...        -0.005667  -0.015428\n",
            "Trihalomethanes  0.018278 -0.015400  ...         1.000000  -0.020497\n",
            "Turbidity       -0.035849 -0.034831  ...        -0.020497   1.000000\n",
            "\n",
            "[9 rows x 9 columns]\n"
          ]
        }
      ]
    },
    {
      "cell_type": "code",
      "metadata": {
        "id": "MfZQNJ_wzuzs"
      },
      "source": [],
      "execution_count": null,
      "outputs": []
    },
    {
      "cell_type": "code",
      "metadata": {
        "id": "YUfbdFOlwQS-"
      },
      "source": [
        "import scipy\n",
        "from scipy.stats import spearmanr"
      ],
      "execution_count": null,
      "outputs": []
    },
    {
      "cell_type": "code",
      "metadata": {
        "colab": {
          "base_uri": "https://localhost:8080/"
        },
        "id": "Eud_SVbCwRVM",
        "outputId": "20ce3146-0873-4768-ed0c-72d5c7e8f216"
      },
      "source": [
        "ph = df['ph']\n",
        "Chloramines = df['Chloramines']\n",
        "spearmanr_coefficient,p_value = spearmanr(ph,Chloramines)\n",
        "print('spearmanr rank coreelation corfficient %0.3f' % (spearmanr_coefficient))"
      ],
      "execution_count": null,
      "outputs": [
        {
          "output_type": "stream",
          "name": "stdout",
          "text": [
            "spearmanr rank coreelation corfficient -0.038\n"
          ]
        }
      ]
    },
    {
      "cell_type": "code",
      "metadata": {
        "colab": {
          "base_uri": "https://localhost:8080/"
        },
        "id": "ZftGfXzPzP4E",
        "outputId": "16860d99-4112-4964-a0f9-053c74017698"
      },
      "source": [
        "ph = df['ph']\n",
        "Conductivity = df['Conductivity']\n",
        "spearmanr_coefficient,p_value = spearmanr(ph,Conductivity)\n",
        "print('spearmanr rank coreelation corfficient %0.3f' % (spearmanr_coefficient))"
      ],
      "execution_count": null,
      "outputs": [
        {
          "output_type": "stream",
          "name": "stdout",
          "text": [
            "spearmanr rank coreelation corfficient 0.009\n"
          ]
        }
      ]
    }
  ]
}