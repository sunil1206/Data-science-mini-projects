{
  "nbformat": 4,
  "nbformat_minor": 0,
  "metadata": {
    "colab": {
      "provenance": [],
      "collapsed_sections": [],
      "authorship_tag": "ABX9TyNVY76K/1reNeqU3AGyaSaK",
      "include_colab_link": true
    },
    "kernelspec": {
      "name": "python3",
      "display_name": "Python 3"
    },
    "language_info": {
      "name": "python"
    }
  },
  "cells": [
    {
      "cell_type": "markdown",
      "metadata": {
        "id": "view-in-github",
        "colab_type": "text"
      },
      "source": [
        "<a href=\"https://colab.research.google.com/github/sunil1206/Data-science-mini-projects/blob/main/E_commerce.ipynb\" target=\"_parent\"><img src=\"https://colab.research.google.com/assets/colab-badge.svg\" alt=\"Open In Colab\"/></a>"
      ]
    },
    {
      "cell_type": "code",
      "metadata": {
        "colab": {
          "base_uri": "https://localhost:8080/",
          "height": 616
        },
        "id": "f24_zd4tO87_",
        "outputId": "aa358fb4-5678-4a4b-84ad-1764c89351cc"
      },
      "source": [
        "import pandas as pd\n",
        "import numpy as np\n",
        "df= pd.read_excel('/content/E-commerce.xlsx')\n",
        "df"
      ],
      "execution_count": null,
      "outputs": [
        {
          "output_type": "execute_result",
          "data": {
            "text/html": [
              "<div>\n",
              "<style scoped>\n",
              "    .dataframe tbody tr th:only-of-type {\n",
              "        vertical-align: middle;\n",
              "    }\n",
              "\n",
              "    .dataframe tbody tr th {\n",
              "        vertical-align: top;\n",
              "    }\n",
              "\n",
              "    .dataframe thead th {\n",
              "        text-align: right;\n",
              "    }\n",
              "</style>\n",
              "<table border=\"1\" class=\"dataframe\">\n",
              "  <thead>\n",
              "    <tr style=\"text-align: right;\">\n",
              "      <th></th>\n",
              "      <th>server_time</th>\n",
              "      <th>device_type</th>\n",
              "      <th>user_id</th>\n",
              "      <th>session_id</th>\n",
              "      <th>item_id</th>\n",
              "      <th>item_price</th>\n",
              "      <th>category</th>\n",
              "      <th>product_type</th>\n",
              "      <th>impression_time</th>\n",
              "      <th>app_code</th>\n",
              "      <th>os_version</th>\n",
              "      <th>is_4G</th>\n",
              "      <th>is_click</th>\n",
              "    </tr>\n",
              "  </thead>\n",
              "  <tbody>\n",
              "    <tr>\n",
              "      <th>0</th>\n",
              "      <td>2018-10-18 14:27:00</td>\n",
              "      <td>android</td>\n",
              "      <td>87862</td>\n",
              "      <td>268465</td>\n",
              "      <td>44459</td>\n",
              "      <td>4602</td>\n",
              "      <td>11</td>\n",
              "      <td>3040</td>\n",
              "      <td>2018-11-15 00:00:00</td>\n",
              "      <td>422</td>\n",
              "      <td>old</td>\n",
              "      <td>0</td>\n",
              "      <td>0</td>\n",
              "    </tr>\n",
              "    <tr>\n",
              "      <th>1</th>\n",
              "      <td>2018-10-18 14:27:00</td>\n",
              "      <td>android</td>\n",
              "      <td>63410</td>\n",
              "      <td>268465</td>\n",
              "      <td>44459</td>\n",
              "      <td>3513</td>\n",
              "      <td>12</td>\n",
              "      <td>6822</td>\n",
              "      <td>2018-11-15 00:01:00</td>\n",
              "      <td>467</td>\n",
              "      <td>latest</td>\n",
              "      <td>1</td>\n",
              "      <td>1</td>\n",
              "    </tr>\n",
              "    <tr>\n",
              "      <th>2</th>\n",
              "      <td>2018-10-18 14:43:00</td>\n",
              "      <td>android</td>\n",
              "      <td>71748</td>\n",
              "      <td>268465</td>\n",
              "      <td>44459</td>\n",
              "      <td>825</td>\n",
              "      <td>17</td>\n",
              "      <td>1619</td>\n",
              "      <td>2018-11-15 00:02:00</td>\n",
              "      <td>259</td>\n",
              "      <td>intermediate</td>\n",
              "      <td>1</td>\n",
              "      <td>0</td>\n",
              "    </tr>\n",
              "    <tr>\n",
              "      <th>3</th>\n",
              "      <td>2018-10-18 14:46:00</td>\n",
              "      <td>android</td>\n",
              "      <td>69209</td>\n",
              "      <td>268465</td>\n",
              "      <td>44459</td>\n",
              "      <td>2355</td>\n",
              "      <td>13</td>\n",
              "      <td>5264</td>\n",
              "      <td>2018-11-15 00:02:00</td>\n",
              "      <td>244</td>\n",
              "      <td>latest</td>\n",
              "      <td>1</td>\n",
              "      <td>0</td>\n",
              "    </tr>\n",
              "    <tr>\n",
              "      <th>4</th>\n",
              "      <td>2018-10-18 14:46:00</td>\n",
              "      <td>android</td>\n",
              "      <td>62873</td>\n",
              "      <td>268465</td>\n",
              "      <td>44459</td>\n",
              "      <td>1267</td>\n",
              "      <td>17</td>\n",
              "      <td>10239</td>\n",
              "      <td>2018-11-15 00:02:00</td>\n",
              "      <td>473</td>\n",
              "      <td>latest</td>\n",
              "      <td>0</td>\n",
              "      <td>0</td>\n",
              "    </tr>\n",
              "    <tr>\n",
              "      <th>...</th>\n",
              "      <td>...</td>\n",
              "      <td>...</td>\n",
              "      <td>...</td>\n",
              "      <td>...</td>\n",
              "      <td>...</td>\n",
              "      <td>...</td>\n",
              "      <td>...</td>\n",
              "      <td>...</td>\n",
              "      <td>...</td>\n",
              "      <td>...</td>\n",
              "      <td>...</td>\n",
              "      <td>...</td>\n",
              "      <td>...</td>\n",
              "    </tr>\n",
              "    <tr>\n",
              "      <th>2020</th>\n",
              "      <td>2018-11-03 12:39:00</td>\n",
              "      <td>android</td>\n",
              "      <td>8146</td>\n",
              "      <td>284263</td>\n",
              "      <td>5754</td>\n",
              "      <td>2125</td>\n",
              "      <td>13</td>\n",
              "      <td>1762</td>\n",
              "      <td>2018-11-15 09:46:00</td>\n",
              "      <td>207</td>\n",
              "      <td>latest</td>\n",
              "      <td>1</td>\n",
              "      <td>0</td>\n",
              "    </tr>\n",
              "    <tr>\n",
              "      <th>2021</th>\n",
              "      <td>2018-11-03 12:39:00</td>\n",
              "      <td>android</td>\n",
              "      <td>43622</td>\n",
              "      <td>284263</td>\n",
              "      <td>28621</td>\n",
              "      <td>2874</td>\n",
              "      <td>10</td>\n",
              "      <td>9375</td>\n",
              "      <td>2018-11-15 09:46:00</td>\n",
              "      <td>207</td>\n",
              "      <td>latest</td>\n",
              "      <td>1</td>\n",
              "      <td>0</td>\n",
              "    </tr>\n",
              "    <tr>\n",
              "      <th>2022</th>\n",
              "      <td>2018-11-03 12:41:00</td>\n",
              "      <td>android</td>\n",
              "      <td>12923</td>\n",
              "      <td>284263</td>\n",
              "      <td>28621</td>\n",
              "      <td>6105</td>\n",
              "      <td>17</td>\n",
              "      <td>2637</td>\n",
              "      <td>2018-11-15 09:46:00</td>\n",
              "      <td>3</td>\n",
              "      <td>latest</td>\n",
              "      <td>1</td>\n",
              "      <td>0</td>\n",
              "    </tr>\n",
              "    <tr>\n",
              "      <th>2023</th>\n",
              "      <td>2018-10-20 22:59:00</td>\n",
              "      <td>android</td>\n",
              "      <td>26523</td>\n",
              "      <td>418685</td>\n",
              "      <td>36253</td>\n",
              "      <td>3444</td>\n",
              "      <td>7</td>\n",
              "      <td>2037</td>\n",
              "      <td>2018-11-15 09:47:00</td>\n",
              "      <td>207</td>\n",
              "      <td>latest</td>\n",
              "      <td>0</td>\n",
              "      <td>0</td>\n",
              "    </tr>\n",
              "    <tr>\n",
              "      <th>2024</th>\n",
              "      <td>2018-10-20 23:01:00</td>\n",
              "      <td>android</td>\n",
              "      <td>91568</td>\n",
              "      <td>418685</td>\n",
              "      <td>25054</td>\n",
              "      <td>2035</td>\n",
              "      <td>17</td>\n",
              "      <td>2150</td>\n",
              "      <td>2018-11-15 09:47:00</td>\n",
              "      <td>129</td>\n",
              "      <td>old</td>\n",
              "      <td>0</td>\n",
              "      <td>0</td>\n",
              "    </tr>\n",
              "  </tbody>\n",
              "</table>\n",
              "<p>2025 rows × 13 columns</p>\n",
              "</div>"
            ],
            "text/plain": [
              "             server_time device_type  user_id  ...    os_version  is_4G  is_click\n",
              "0    2018-10-18 14:27:00     android    87862  ...           old      0         0\n",
              "1    2018-10-18 14:27:00     android    63410  ...        latest      1         1\n",
              "2    2018-10-18 14:43:00     android    71748  ...  intermediate      1         0\n",
              "3    2018-10-18 14:46:00     android    69209  ...        latest      1         0\n",
              "4    2018-10-18 14:46:00     android    62873  ...        latest      0         0\n",
              "...                  ...         ...      ...  ...           ...    ...       ...\n",
              "2020 2018-11-03 12:39:00     android     8146  ...        latest      1         0\n",
              "2021 2018-11-03 12:39:00     android    43622  ...        latest      1         0\n",
              "2022 2018-11-03 12:41:00     android    12923  ...        latest      1         0\n",
              "2023 2018-10-20 22:59:00     android    26523  ...        latest      0         0\n",
              "2024 2018-10-20 23:01:00     android    91568  ...           old      0         0\n",
              "\n",
              "[2025 rows x 13 columns]"
            ]
          },
          "metadata": {},
          "execution_count": 1
        }
      ]
    },
    {
      "cell_type": "code",
      "metadata": {
        "colab": {
          "base_uri": "https://localhost:8080/",
          "height": 320
        },
        "id": "qd8L_s1i1519",
        "outputId": "0e75e815-c40e-43b9-98ae-18ae30602a3d"
      },
      "source": [
        "df.describe().round(2)"
      ],
      "execution_count": null,
      "outputs": [
        {
          "output_type": "execute_result",
          "data": {
            "text/html": [
              "<div>\n",
              "<style scoped>\n",
              "    .dataframe tbody tr th:only-of-type {\n",
              "        vertical-align: middle;\n",
              "    }\n",
              "\n",
              "    .dataframe tbody tr th {\n",
              "        vertical-align: top;\n",
              "    }\n",
              "\n",
              "    .dataframe thead th {\n",
              "        text-align: right;\n",
              "    }\n",
              "</style>\n",
              "<table border=\"1\" class=\"dataframe\">\n",
              "  <thead>\n",
              "    <tr style=\"text-align: right;\">\n",
              "      <th></th>\n",
              "      <th>user_id</th>\n",
              "      <th>session_id</th>\n",
              "      <th>item_id</th>\n",
              "      <th>item_price</th>\n",
              "      <th>category</th>\n",
              "      <th>product_type</th>\n",
              "      <th>app_code</th>\n",
              "      <th>is_4G</th>\n",
              "      <th>is_click</th>\n",
              "    </tr>\n",
              "  </thead>\n",
              "  <tbody>\n",
              "    <tr>\n",
              "      <th>count</th>\n",
              "      <td>2025.00</td>\n",
              "      <td>2025.00</td>\n",
              "      <td>2025.00</td>\n",
              "      <td>2025.00</td>\n",
              "      <td>2025.00</td>\n",
              "      <td>2025.00</td>\n",
              "      <td>2025.00</td>\n",
              "      <td>2025.00</td>\n",
              "      <td>2025.00</td>\n",
              "    </tr>\n",
              "    <tr>\n",
              "      <th>mean</th>\n",
              "      <td>46726.99</td>\n",
              "      <td>547414.95</td>\n",
              "      <td>63519.06</td>\n",
              "      <td>6658.90</td>\n",
              "      <td>10.29</td>\n",
              "      <td>5358.94</td>\n",
              "      <td>244.72</td>\n",
              "      <td>0.34</td>\n",
              "      <td>0.05</td>\n",
              "    </tr>\n",
              "    <tr>\n",
              "      <th>std</th>\n",
              "      <td>26395.01</td>\n",
              "      <td>310791.07</td>\n",
              "      <td>36838.22</td>\n",
              "      <td>17292.39</td>\n",
              "      <td>4.96</td>\n",
              "      <td>3075.50</td>\n",
              "      <td>124.45</td>\n",
              "      <td>0.47</td>\n",
              "      <td>0.22</td>\n",
              "    </tr>\n",
              "    <tr>\n",
              "      <th>min</th>\n",
              "      <td>10.00</td>\n",
              "      <td>1694.00</td>\n",
              "      <td>176.00</td>\n",
              "      <td>16.00</td>\n",
              "      <td>0.00</td>\n",
              "      <td>6.00</td>\n",
              "      <td>1.00</td>\n",
              "      <td>0.00</td>\n",
              "      <td>0.00</td>\n",
              "    </tr>\n",
              "    <tr>\n",
              "      <th>25%</th>\n",
              "      <td>24853.00</td>\n",
              "      <td>273807.00</td>\n",
              "      <td>33864.00</td>\n",
              "      <td>1465.00</td>\n",
              "      <td>7.00</td>\n",
              "      <td>2765.00</td>\n",
              "      <td>190.00</td>\n",
              "      <td>0.00</td>\n",
              "      <td>0.00</td>\n",
              "    </tr>\n",
              "    <tr>\n",
              "      <th>50%</th>\n",
              "      <td>46251.00</td>\n",
              "      <td>544037.00</td>\n",
              "      <td>62896.00</td>\n",
              "      <td>2425.00</td>\n",
              "      <td>11.00</td>\n",
              "      <td>5353.00</td>\n",
              "      <td>207.00</td>\n",
              "      <td>0.00</td>\n",
              "      <td>0.00</td>\n",
              "    </tr>\n",
              "    <tr>\n",
              "      <th>75%</th>\n",
              "      <td>69412.00</td>\n",
              "      <td>799264.00</td>\n",
              "      <td>91322.00</td>\n",
              "      <td>4793.00</td>\n",
              "      <td>14.00</td>\n",
              "      <td>8121.00</td>\n",
              "      <td>371.00</td>\n",
              "      <td>1.00</td>\n",
              "      <td>0.00</td>\n",
              "    </tr>\n",
              "    <tr>\n",
              "      <th>max</th>\n",
              "      <td>92508.00</td>\n",
              "      <td>1089219.00</td>\n",
              "      <td>132865.00</td>\n",
              "      <td>239360.00</td>\n",
              "      <td>17.00</td>\n",
              "      <td>10573.00</td>\n",
              "      <td>508.00</td>\n",
              "      <td>1.00</td>\n",
              "      <td>1.00</td>\n",
              "    </tr>\n",
              "  </tbody>\n",
              "</table>\n",
              "</div>"
            ],
            "text/plain": [
              "        user_id  session_id    item_id  ...  app_code    is_4G  is_click\n",
              "count   2025.00     2025.00    2025.00  ...   2025.00  2025.00   2025.00\n",
              "mean   46726.99   547414.95   63519.06  ...    244.72     0.34      0.05\n",
              "std    26395.01   310791.07   36838.22  ...    124.45     0.47      0.22\n",
              "min       10.00     1694.00     176.00  ...      1.00     0.00      0.00\n",
              "25%    24853.00   273807.00   33864.00  ...    190.00     0.00      0.00\n",
              "50%    46251.00   544037.00   62896.00  ...    207.00     0.00      0.00\n",
              "75%    69412.00   799264.00   91322.00  ...    371.00     1.00      0.00\n",
              "max    92508.00  1089219.00  132865.00  ...    508.00     1.00      1.00\n",
              "\n",
              "[8 rows x 9 columns]"
            ]
          },
          "metadata": {},
          "execution_count": 34
        }
      ]
    },
    {
      "cell_type": "code",
      "metadata": {
        "colab": {
          "base_uri": "https://localhost:8080/"
        },
        "id": "vqkbISHhFVLw",
        "outputId": "ed5423ea-7d23-4c25-8165-8508c67caf56"
      },
      "source": [
        "df.isnull().sum()"
      ],
      "execution_count": null,
      "outputs": [
        {
          "output_type": "execute_result",
          "data": {
            "text/plain": [
              "server_time        0\n",
              "device_type        0\n",
              "user_id            0\n",
              "session_id         0\n",
              "item_id            0\n",
              "item_price         0\n",
              "category           0\n",
              "product_type       0\n",
              "impression_time    0\n",
              "app_code           0\n",
              "os_version         0\n",
              "is_4G              0\n",
              "is_click           0\n",
              "dtype: int64"
            ]
          },
          "metadata": {},
          "execution_count": 2
        }
      ]
    },
    {
      "cell_type": "code",
      "metadata": {
        "colab": {
          "base_uri": "https://localhost:8080/",
          "height": 331
        },
        "id": "GrlkP3odFbpo",
        "outputId": "66316fd5-154a-4e97-98fb-1bf249899dd9"
      },
      "source": [
        "corr=df.corr()\n",
        "corr.style.background_gradient(cmap='coolwarm')"
      ],
      "execution_count": null,
      "outputs": [
        {
          "output_type": "execute_result",
          "data": {
            "text/html": [
              "<style  type=\"text/css\" >\n",
              "#T_77dfd9a8_3ed1_11ec_b79d_0242ac1c0002row0_col0,#T_77dfd9a8_3ed1_11ec_b79d_0242ac1c0002row1_col1,#T_77dfd9a8_3ed1_11ec_b79d_0242ac1c0002row2_col2,#T_77dfd9a8_3ed1_11ec_b79d_0242ac1c0002row3_col3,#T_77dfd9a8_3ed1_11ec_b79d_0242ac1c0002row4_col4,#T_77dfd9a8_3ed1_11ec_b79d_0242ac1c0002row5_col5,#T_77dfd9a8_3ed1_11ec_b79d_0242ac1c0002row6_col6,#T_77dfd9a8_3ed1_11ec_b79d_0242ac1c0002row7_col7,#T_77dfd9a8_3ed1_11ec_b79d_0242ac1c0002row8_col8{\n",
              "            background-color:  #b40426;\n",
              "            color:  #f1f1f1;\n",
              "        }#T_77dfd9a8_3ed1_11ec_b79d_0242ac1c0002row0_col1,#T_77dfd9a8_3ed1_11ec_b79d_0242ac1c0002row0_col5,#T_77dfd9a8_3ed1_11ec_b79d_0242ac1c0002row6_col4,#T_77dfd9a8_3ed1_11ec_b79d_0242ac1c0002row8_col2{\n",
              "            background-color:  #4358cb;\n",
              "            color:  #f1f1f1;\n",
              "        }#T_77dfd9a8_3ed1_11ec_b79d_0242ac1c0002row0_col2,#T_77dfd9a8_3ed1_11ec_b79d_0242ac1c0002row4_col8,#T_77dfd9a8_3ed1_11ec_b79d_0242ac1c0002row5_col0,#T_77dfd9a8_3ed1_11ec_b79d_0242ac1c0002row8_col1{\n",
              "            background-color:  #4257c9;\n",
              "            color:  #f1f1f1;\n",
              "        }#T_77dfd9a8_3ed1_11ec_b79d_0242ac1c0002row0_col3,#T_77dfd9a8_3ed1_11ec_b79d_0242ac1c0002row1_col5{\n",
              "            background-color:  #455cce;\n",
              "            color:  #f1f1f1;\n",
              "        }#T_77dfd9a8_3ed1_11ec_b79d_0242ac1c0002row0_col4,#T_77dfd9a8_3ed1_11ec_b79d_0242ac1c0002row4_col5,#T_77dfd9a8_3ed1_11ec_b79d_0242ac1c0002row5_col2{\n",
              "            background-color:  #3d50c3;\n",
              "            color:  #f1f1f1;\n",
              "        }#T_77dfd9a8_3ed1_11ec_b79d_0242ac1c0002row0_col6,#T_77dfd9a8_3ed1_11ec_b79d_0242ac1c0002row4_col6{\n",
              "            background-color:  #4f69d9;\n",
              "            color:  #000000;\n",
              "        }#T_77dfd9a8_3ed1_11ec_b79d_0242ac1c0002row0_col7,#T_77dfd9a8_3ed1_11ec_b79d_0242ac1c0002row1_col7{\n",
              "            background-color:  #536edd;\n",
              "            color:  #000000;\n",
              "        }#T_77dfd9a8_3ed1_11ec_b79d_0242ac1c0002row0_col8,#T_77dfd9a8_3ed1_11ec_b79d_0242ac1c0002row1_col4,#T_77dfd9a8_3ed1_11ec_b79d_0242ac1c0002row3_col5,#T_77dfd9a8_3ed1_11ec_b79d_0242ac1c0002row4_col0,#T_77dfd9a8_3ed1_11ec_b79d_0242ac1c0002row4_col1,#T_77dfd9a8_3ed1_11ec_b79d_0242ac1c0002row5_col3,#T_77dfd9a8_3ed1_11ec_b79d_0242ac1c0002row6_col2,#T_77dfd9a8_3ed1_11ec_b79d_0242ac1c0002row6_col7,#T_77dfd9a8_3ed1_11ec_b79d_0242ac1c0002row7_col3,#T_77dfd9a8_3ed1_11ec_b79d_0242ac1c0002row7_col6,#T_77dfd9a8_3ed1_11ec_b79d_0242ac1c0002row8_col0{\n",
              "            background-color:  #3b4cc0;\n",
              "            color:  #f1f1f1;\n",
              "        }#T_77dfd9a8_3ed1_11ec_b79d_0242ac1c0002row1_col0,#T_77dfd9a8_3ed1_11ec_b79d_0242ac1c0002row3_col1,#T_77dfd9a8_3ed1_11ec_b79d_0242ac1c0002row6_col0,#T_77dfd9a8_3ed1_11ec_b79d_0242ac1c0002row6_col1{\n",
              "            background-color:  #4055c8;\n",
              "            color:  #f1f1f1;\n",
              "        }#T_77dfd9a8_3ed1_11ec_b79d_0242ac1c0002row1_col2,#T_77dfd9a8_3ed1_11ec_b79d_0242ac1c0002row2_col1,#T_77dfd9a8_3ed1_11ec_b79d_0242ac1c0002row6_col5{\n",
              "            background-color:  #4a63d3;\n",
              "            color:  #f1f1f1;\n",
              "        }#T_77dfd9a8_3ed1_11ec_b79d_0242ac1c0002row1_col3,#T_77dfd9a8_3ed1_11ec_b79d_0242ac1c0002row2_col0,#T_77dfd9a8_3ed1_11ec_b79d_0242ac1c0002row2_col8,#T_77dfd9a8_3ed1_11ec_b79d_0242ac1c0002row7_col4,#T_77dfd9a8_3ed1_11ec_b79d_0242ac1c0002row7_col8{\n",
              "            background-color:  #3f53c6;\n",
              "            color:  #f1f1f1;\n",
              "        }#T_77dfd9a8_3ed1_11ec_b79d_0242ac1c0002row1_col6,#T_77dfd9a8_3ed1_11ec_b79d_0242ac1c0002row3_col8,#T_77dfd9a8_3ed1_11ec_b79d_0242ac1c0002row8_col5{\n",
              "            background-color:  #4c66d6;\n",
              "            color:  #000000;\n",
              "        }#T_77dfd9a8_3ed1_11ec_b79d_0242ac1c0002row1_col8,#T_77dfd9a8_3ed1_11ec_b79d_0242ac1c0002row5_col4{\n",
              "            background-color:  #3e51c5;\n",
              "            color:  #f1f1f1;\n",
              "        }#T_77dfd9a8_3ed1_11ec_b79d_0242ac1c0002row2_col3,#T_77dfd9a8_3ed1_11ec_b79d_0242ac1c0002row3_col0,#T_77dfd9a8_3ed1_11ec_b79d_0242ac1c0002row6_col3,#T_77dfd9a8_3ed1_11ec_b79d_0242ac1c0002row7_col0,#T_77dfd9a8_3ed1_11ec_b79d_0242ac1c0002row8_col4{\n",
              "            background-color:  #445acc;\n",
              "            color:  #f1f1f1;\n",
              "        }#T_77dfd9a8_3ed1_11ec_b79d_0242ac1c0002row2_col4,#T_77dfd9a8_3ed1_11ec_b79d_0242ac1c0002row3_col7,#T_77dfd9a8_3ed1_11ec_b79d_0242ac1c0002row4_col2,#T_77dfd9a8_3ed1_11ec_b79d_0242ac1c0002row5_col7,#T_77dfd9a8_3ed1_11ec_b79d_0242ac1c0002row6_col8{\n",
              "            background-color:  #4961d2;\n",
              "            color:  #f1f1f1;\n",
              "        }#T_77dfd9a8_3ed1_11ec_b79d_0242ac1c0002row2_col5,#T_77dfd9a8_3ed1_11ec_b79d_0242ac1c0002row7_col2,#T_77dfd9a8_3ed1_11ec_b79d_0242ac1c0002row7_col5{\n",
              "            background-color:  #3c4ec2;\n",
              "            color:  #f1f1f1;\n",
              "        }#T_77dfd9a8_3ed1_11ec_b79d_0242ac1c0002row2_col6,#T_77dfd9a8_3ed1_11ec_b79d_0242ac1c0002row3_col2,#T_77dfd9a8_3ed1_11ec_b79d_0242ac1c0002row7_col1{\n",
              "            background-color:  #465ecf;\n",
              "            color:  #f1f1f1;\n",
              "        }#T_77dfd9a8_3ed1_11ec_b79d_0242ac1c0002row2_col7,#T_77dfd9a8_3ed1_11ec_b79d_0242ac1c0002row5_col1{\n",
              "            background-color:  #485fd1;\n",
              "            color:  #f1f1f1;\n",
              "        }#T_77dfd9a8_3ed1_11ec_b79d_0242ac1c0002row3_col4,#T_77dfd9a8_3ed1_11ec_b79d_0242ac1c0002row3_col6{\n",
              "            background-color:  #516ddb;\n",
              "            color:  #000000;\n",
              "        }#T_77dfd9a8_3ed1_11ec_b79d_0242ac1c0002row4_col3{\n",
              "            background-color:  #506bda;\n",
              "            color:  #000000;\n",
              "        }#T_77dfd9a8_3ed1_11ec_b79d_0242ac1c0002row4_col7,#T_77dfd9a8_3ed1_11ec_b79d_0242ac1c0002row5_col8{\n",
              "            background-color:  #4b64d5;\n",
              "            color:  #f1f1f1;\n",
              "        }#T_77dfd9a8_3ed1_11ec_b79d_0242ac1c0002row5_col6,#T_77dfd9a8_3ed1_11ec_b79d_0242ac1c0002row8_col6{\n",
              "            background-color:  #5875e1;\n",
              "            color:  #000000;\n",
              "        }#T_77dfd9a8_3ed1_11ec_b79d_0242ac1c0002row8_col3,#T_77dfd9a8_3ed1_11ec_b79d_0242ac1c0002row8_col7{\n",
              "            background-color:  #4e68d8;\n",
              "            color:  #000000;\n",
              "        }</style><table id=\"T_77dfd9a8_3ed1_11ec_b79d_0242ac1c0002\" class=\"dataframe\"><thead>    <tr>        <th class=\"blank level0\" ></th>        <th class=\"col_heading level0 col0\" >user_id</th>        <th class=\"col_heading level0 col1\" >session_id</th>        <th class=\"col_heading level0 col2\" >item_id</th>        <th class=\"col_heading level0 col3\" >item_price</th>        <th class=\"col_heading level0 col4\" >category</th>        <th class=\"col_heading level0 col5\" >product_type</th>        <th class=\"col_heading level0 col6\" >app_code</th>        <th class=\"col_heading level0 col7\" >is_4G</th>        <th class=\"col_heading level0 col8\" >is_click</th>    </tr></thead><tbody>\n",
              "                <tr>\n",
              "                        <th id=\"T_77dfd9a8_3ed1_11ec_b79d_0242ac1c0002level0_row0\" class=\"row_heading level0 row0\" >user_id</th>\n",
              "                        <td id=\"T_77dfd9a8_3ed1_11ec_b79d_0242ac1c0002row0_col0\" class=\"data row0 col0\" >1.000000</td>\n",
              "                        <td id=\"T_77dfd9a8_3ed1_11ec_b79d_0242ac1c0002row0_col1\" class=\"data row0 col1\" >0.002357</td>\n",
              "                        <td id=\"T_77dfd9a8_3ed1_11ec_b79d_0242ac1c0002row0_col2\" class=\"data row0 col2\" >-0.003168</td>\n",
              "                        <td id=\"T_77dfd9a8_3ed1_11ec_b79d_0242ac1c0002row0_col3\" class=\"data row0 col3\" >0.014984</td>\n",
              "                        <td id=\"T_77dfd9a8_3ed1_11ec_b79d_0242ac1c0002row0_col4\" class=\"data row0 col4\" >-0.019714</td>\n",
              "                        <td id=\"T_77dfd9a8_3ed1_11ec_b79d_0242ac1c0002row0_col5\" class=\"data row0 col5\" >0.006344</td>\n",
              "                        <td id=\"T_77dfd9a8_3ed1_11ec_b79d_0242ac1c0002row0_col6\" class=\"data row0 col6\" >0.001983</td>\n",
              "                        <td id=\"T_77dfd9a8_3ed1_11ec_b79d_0242ac1c0002row0_col7\" class=\"data row0 col7\" >0.013206</td>\n",
              "                        <td id=\"T_77dfd9a8_3ed1_11ec_b79d_0242ac1c0002row0_col8\" class=\"data row0 col8\" >-0.019109</td>\n",
              "            </tr>\n",
              "            <tr>\n",
              "                        <th id=\"T_77dfd9a8_3ed1_11ec_b79d_0242ac1c0002level0_row1\" class=\"row_heading level0 row1\" >session_id</th>\n",
              "                        <td id=\"T_77dfd9a8_3ed1_11ec_b79d_0242ac1c0002row1_col0\" class=\"data row1 col0\" >0.002357</td>\n",
              "                        <td id=\"T_77dfd9a8_3ed1_11ec_b79d_0242ac1c0002row1_col1\" class=\"data row1 col1\" >1.000000</td>\n",
              "                        <td id=\"T_77dfd9a8_3ed1_11ec_b79d_0242ac1c0002row1_col2\" class=\"data row1 col2\" >0.024115</td>\n",
              "                        <td id=\"T_77dfd9a8_3ed1_11ec_b79d_0242ac1c0002row1_col3\" class=\"data row1 col3\" >-0.004718</td>\n",
              "                        <td id=\"T_77dfd9a8_3ed1_11ec_b79d_0242ac1c0002row1_col4\" class=\"data row1 col4\" >-0.028275</td>\n",
              "                        <td id=\"T_77dfd9a8_3ed1_11ec_b79d_0242ac1c0002row1_col5\" class=\"data row1 col5\" >0.015980</td>\n",
              "                        <td id=\"T_77dfd9a8_3ed1_11ec_b79d_0242ac1c0002row1_col6\" class=\"data row1 col6\" >-0.004847</td>\n",
              "                        <td id=\"T_77dfd9a8_3ed1_11ec_b79d_0242ac1c0002row1_col7\" class=\"data row1 col7\" >0.014515</td>\n",
              "                        <td id=\"T_77dfd9a8_3ed1_11ec_b79d_0242ac1c0002row1_col8\" class=\"data row1 col8\" >-0.003688</td>\n",
              "            </tr>\n",
              "            <tr>\n",
              "                        <th id=\"T_77dfd9a8_3ed1_11ec_b79d_0242ac1c0002level0_row2\" class=\"row_heading level0 row2\" >item_id</th>\n",
              "                        <td id=\"T_77dfd9a8_3ed1_11ec_b79d_0242ac1c0002row2_col0\" class=\"data row2 col0\" >-0.003168</td>\n",
              "                        <td id=\"T_77dfd9a8_3ed1_11ec_b79d_0242ac1c0002row2_col1\" class=\"data row2 col1\" >0.024115</td>\n",
              "                        <td id=\"T_77dfd9a8_3ed1_11ec_b79d_0242ac1c0002row2_col2\" class=\"data row2 col2\" >1.000000</td>\n",
              "                        <td id=\"T_77dfd9a8_3ed1_11ec_b79d_0242ac1c0002row2_col3\" class=\"data row2 col3\" >0.011587</td>\n",
              "                        <td id=\"T_77dfd9a8_3ed1_11ec_b79d_0242ac1c0002row2_col4\" class=\"data row2 col4\" >0.020161</td>\n",
              "                        <td id=\"T_77dfd9a8_3ed1_11ec_b79d_0242ac1c0002row2_col5\" class=\"data row2 col5\" >-0.017525</td>\n",
              "                        <td id=\"T_77dfd9a8_3ed1_11ec_b79d_0242ac1c0002row2_col6\" class=\"data row2 col6\" >-0.029389</td>\n",
              "                        <td id=\"T_77dfd9a8_3ed1_11ec_b79d_0242ac1c0002row2_col7\" class=\"data row2 col7\" >-0.022003</td>\n",
              "                        <td id=\"T_77dfd9a8_3ed1_11ec_b79d_0242ac1c0002row2_col8\" class=\"data row2 col8\" >0.000510</td>\n",
              "            </tr>\n",
              "            <tr>\n",
              "                        <th id=\"T_77dfd9a8_3ed1_11ec_b79d_0242ac1c0002level0_row3\" class=\"row_heading level0 row3\" >item_price</th>\n",
              "                        <td id=\"T_77dfd9a8_3ed1_11ec_b79d_0242ac1c0002row3_col0\" class=\"data row3 col0\" >0.014984</td>\n",
              "                        <td id=\"T_77dfd9a8_3ed1_11ec_b79d_0242ac1c0002row3_col1\" class=\"data row3 col1\" >-0.004718</td>\n",
              "                        <td id=\"T_77dfd9a8_3ed1_11ec_b79d_0242ac1c0002row3_col2\" class=\"data row3 col2\" >0.011587</td>\n",
              "                        <td id=\"T_77dfd9a8_3ed1_11ec_b79d_0242ac1c0002row3_col3\" class=\"data row3 col3\" >1.000000</td>\n",
              "                        <td id=\"T_77dfd9a8_3ed1_11ec_b79d_0242ac1c0002row3_col4\" class=\"data row3 col4\" >0.050027</td>\n",
              "                        <td id=\"T_77dfd9a8_3ed1_11ec_b79d_0242ac1c0002row3_col5\" class=\"data row3 col5\" >-0.022866</td>\n",
              "                        <td id=\"T_77dfd9a8_3ed1_11ec_b79d_0242ac1c0002row3_col6\" class=\"data row3 col6\" >0.010713</td>\n",
              "                        <td id=\"T_77dfd9a8_3ed1_11ec_b79d_0242ac1c0002row3_col7\" class=\"data row3 col7\" >-0.019272</td>\n",
              "                        <td id=\"T_77dfd9a8_3ed1_11ec_b79d_0242ac1c0002row3_col8\" class=\"data row3 col8\" >0.043398</td>\n",
              "            </tr>\n",
              "            <tr>\n",
              "                        <th id=\"T_77dfd9a8_3ed1_11ec_b79d_0242ac1c0002level0_row4\" class=\"row_heading level0 row4\" >category</th>\n",
              "                        <td id=\"T_77dfd9a8_3ed1_11ec_b79d_0242ac1c0002row4_col0\" class=\"data row4 col0\" >-0.019714</td>\n",
              "                        <td id=\"T_77dfd9a8_3ed1_11ec_b79d_0242ac1c0002row4_col1\" class=\"data row4 col1\" >-0.028275</td>\n",
              "                        <td id=\"T_77dfd9a8_3ed1_11ec_b79d_0242ac1c0002row4_col2\" class=\"data row4 col2\" >0.020161</td>\n",
              "                        <td id=\"T_77dfd9a8_3ed1_11ec_b79d_0242ac1c0002row4_col3\" class=\"data row4 col3\" >0.050027</td>\n",
              "                        <td id=\"T_77dfd9a8_3ed1_11ec_b79d_0242ac1c0002row4_col4\" class=\"data row4 col4\" >1.000000</td>\n",
              "                        <td id=\"T_77dfd9a8_3ed1_11ec_b79d_0242ac1c0002row4_col5\" class=\"data row4 col5\" >-0.013163</td>\n",
              "                        <td id=\"T_77dfd9a8_3ed1_11ec_b79d_0242ac1c0002row4_col6\" class=\"data row4 col6\" >0.003524</td>\n",
              "                        <td id=\"T_77dfd9a8_3ed1_11ec_b79d_0242ac1c0002row4_col7\" class=\"data row4 col7\" >-0.011385</td>\n",
              "                        <td id=\"T_77dfd9a8_3ed1_11ec_b79d_0242ac1c0002row4_col8\" class=\"data row4 col8\" >0.007485</td>\n",
              "            </tr>\n",
              "            <tr>\n",
              "                        <th id=\"T_77dfd9a8_3ed1_11ec_b79d_0242ac1c0002level0_row5\" class=\"row_heading level0 row5\" >product_type</th>\n",
              "                        <td id=\"T_77dfd9a8_3ed1_11ec_b79d_0242ac1c0002row5_col0\" class=\"data row5 col0\" >0.006344</td>\n",
              "                        <td id=\"T_77dfd9a8_3ed1_11ec_b79d_0242ac1c0002row5_col1\" class=\"data row5 col1\" >0.015980</td>\n",
              "                        <td id=\"T_77dfd9a8_3ed1_11ec_b79d_0242ac1c0002row5_col2\" class=\"data row5 col2\" >-0.017525</td>\n",
              "                        <td id=\"T_77dfd9a8_3ed1_11ec_b79d_0242ac1c0002row5_col3\" class=\"data row5 col3\" >-0.022866</td>\n",
              "                        <td id=\"T_77dfd9a8_3ed1_11ec_b79d_0242ac1c0002row5_col4\" class=\"data row5 col4\" >-0.013163</td>\n",
              "                        <td id=\"T_77dfd9a8_3ed1_11ec_b79d_0242ac1c0002row5_col5\" class=\"data row5 col5\" >1.000000</td>\n",
              "                        <td id=\"T_77dfd9a8_3ed1_11ec_b79d_0242ac1c0002row5_col6\" class=\"data row5 col6\" >0.030920</td>\n",
              "                        <td id=\"T_77dfd9a8_3ed1_11ec_b79d_0242ac1c0002row5_col7\" class=\"data row5 col7\" >-0.018663</td>\n",
              "                        <td id=\"T_77dfd9a8_3ed1_11ec_b79d_0242ac1c0002row5_col8\" class=\"data row5 col8\" >0.040050</td>\n",
              "            </tr>\n",
              "            <tr>\n",
              "                        <th id=\"T_77dfd9a8_3ed1_11ec_b79d_0242ac1c0002level0_row6\" class=\"row_heading level0 row6\" >app_code</th>\n",
              "                        <td id=\"T_77dfd9a8_3ed1_11ec_b79d_0242ac1c0002row6_col0\" class=\"data row6 col0\" >0.001983</td>\n",
              "                        <td id=\"T_77dfd9a8_3ed1_11ec_b79d_0242ac1c0002row6_col1\" class=\"data row6 col1\" >-0.004847</td>\n",
              "                        <td id=\"T_77dfd9a8_3ed1_11ec_b79d_0242ac1c0002row6_col2\" class=\"data row6 col2\" >-0.029389</td>\n",
              "                        <td id=\"T_77dfd9a8_3ed1_11ec_b79d_0242ac1c0002row6_col3\" class=\"data row6 col3\" >0.010713</td>\n",
              "                        <td id=\"T_77dfd9a8_3ed1_11ec_b79d_0242ac1c0002row6_col4\" class=\"data row6 col4\" >0.003524</td>\n",
              "                        <td id=\"T_77dfd9a8_3ed1_11ec_b79d_0242ac1c0002row6_col5\" class=\"data row6 col5\" >0.030920</td>\n",
              "                        <td id=\"T_77dfd9a8_3ed1_11ec_b79d_0242ac1c0002row6_col6\" class=\"data row6 col6\" >1.000000</td>\n",
              "                        <td id=\"T_77dfd9a8_3ed1_11ec_b79d_0242ac1c0002row6_col7\" class=\"data row6 col7\" >-0.071782</td>\n",
              "                        <td id=\"T_77dfd9a8_3ed1_11ec_b79d_0242ac1c0002row6_col8\" class=\"data row6 col8\" >0.031616</td>\n",
              "            </tr>\n",
              "            <tr>\n",
              "                        <th id=\"T_77dfd9a8_3ed1_11ec_b79d_0242ac1c0002level0_row7\" class=\"row_heading level0 row7\" >is_4G</th>\n",
              "                        <td id=\"T_77dfd9a8_3ed1_11ec_b79d_0242ac1c0002row7_col0\" class=\"data row7 col0\" >0.013206</td>\n",
              "                        <td id=\"T_77dfd9a8_3ed1_11ec_b79d_0242ac1c0002row7_col1\" class=\"data row7 col1\" >0.014515</td>\n",
              "                        <td id=\"T_77dfd9a8_3ed1_11ec_b79d_0242ac1c0002row7_col2\" class=\"data row7 col2\" >-0.022003</td>\n",
              "                        <td id=\"T_77dfd9a8_3ed1_11ec_b79d_0242ac1c0002row7_col3\" class=\"data row7 col3\" >-0.019272</td>\n",
              "                        <td id=\"T_77dfd9a8_3ed1_11ec_b79d_0242ac1c0002row7_col4\" class=\"data row7 col4\" >-0.011385</td>\n",
              "                        <td id=\"T_77dfd9a8_3ed1_11ec_b79d_0242ac1c0002row7_col5\" class=\"data row7 col5\" >-0.018663</td>\n",
              "                        <td id=\"T_77dfd9a8_3ed1_11ec_b79d_0242ac1c0002row7_col6\" class=\"data row7 col6\" >-0.071782</td>\n",
              "                        <td id=\"T_77dfd9a8_3ed1_11ec_b79d_0242ac1c0002row7_col7\" class=\"data row7 col7\" >1.000000</td>\n",
              "                        <td id=\"T_77dfd9a8_3ed1_11ec_b79d_0242ac1c0002row7_col8\" class=\"data row7 col8\" >-0.002699</td>\n",
              "            </tr>\n",
              "            <tr>\n",
              "                        <th id=\"T_77dfd9a8_3ed1_11ec_b79d_0242ac1c0002level0_row8\" class=\"row_heading level0 row8\" >is_click</th>\n",
              "                        <td id=\"T_77dfd9a8_3ed1_11ec_b79d_0242ac1c0002row8_col0\" class=\"data row8 col0\" >-0.019109</td>\n",
              "                        <td id=\"T_77dfd9a8_3ed1_11ec_b79d_0242ac1c0002row8_col1\" class=\"data row8 col1\" >-0.003688</td>\n",
              "                        <td id=\"T_77dfd9a8_3ed1_11ec_b79d_0242ac1c0002row8_col2\" class=\"data row8 col2\" >0.000510</td>\n",
              "                        <td id=\"T_77dfd9a8_3ed1_11ec_b79d_0242ac1c0002row8_col3\" class=\"data row8 col3\" >0.043398</td>\n",
              "                        <td id=\"T_77dfd9a8_3ed1_11ec_b79d_0242ac1c0002row8_col4\" class=\"data row8 col4\" >0.007485</td>\n",
              "                        <td id=\"T_77dfd9a8_3ed1_11ec_b79d_0242ac1c0002row8_col5\" class=\"data row8 col5\" >0.040050</td>\n",
              "                        <td id=\"T_77dfd9a8_3ed1_11ec_b79d_0242ac1c0002row8_col6\" class=\"data row8 col6\" >0.031616</td>\n",
              "                        <td id=\"T_77dfd9a8_3ed1_11ec_b79d_0242ac1c0002row8_col7\" class=\"data row8 col7\" >-0.002699</td>\n",
              "                        <td id=\"T_77dfd9a8_3ed1_11ec_b79d_0242ac1c0002row8_col8\" class=\"data row8 col8\" >1.000000</td>\n",
              "            </tr>\n",
              "    </tbody></table>"
            ],
            "text/plain": [
              "<pandas.io.formats.style.Styler at 0x7fee761b7090>"
            ]
          },
          "metadata": {},
          "execution_count": 5
        }
      ]
    },
    {
      "cell_type": "code",
      "metadata": {
        "colab": {
          "base_uri": "https://localhost:8080/",
          "height": 142
        },
        "id": "r4ck7I2RG5DA",
        "outputId": "bee003f9-aa73-4422-b76a-4e669d37d6a3"
      },
      "source": [
        "import matplotlib.pyplot as plt\n",
        "%matplotlib inline\n",
        "df.plot(kind='box',subplots=True,layout=(5,5),sharex=False,sharey=False)\n",
        "plt.show()"
      ],
      "execution_count": null,
      "outputs": [
        {
          "output_type": "display_data",
          "data": {
            "image/png": "[encoded data removed]",
            "text/plain": [
              "<Figure size 432x288 with 25 Axes>"
            ]
          },
          "metadata": {
            "needs_background": "light"
          }
        }
      ]
    },
    {
      "cell_type": "code",
      "metadata": {
        "colab": {
          "base_uri": "https://localhost:8080/"
        },
        "id": "VJJvSylaPouQ",
        "outputId": "b83b463a-ef3a-4698-9d5c-2faf75d98d0d"
      },
      "source": [
        "df.shape"
      ],
      "execution_count": null,
      "outputs": [
        {
          "output_type": "execute_result",
          "data": {
            "text/plain": [
              "(2025, 13)"
            ]
          },
          "metadata": {},
          "execution_count": 11
        }
      ]
    },
    {
      "cell_type": "code",
      "metadata": {
        "colab": {
          "base_uri": "https://localhost:8080/"
        },
        "id": "TO_38DmQP_Yf",
        "outputId": "147f3816-88e0-4df6-bf55-1458e513fbb2"
      },
      "source": [
        "df.nunique()"
      ],
      "execution_count": null,
      "outputs": [
        {
          "output_type": "execute_result",
          "data": {
            "text/plain": [
              "server_time        1715\n",
              "device_type           1\n",
              "user_id            1842\n",
              "session_id          718\n",
              "item_id             976\n",
              "item_price          937\n",
              "category             16\n",
              "product_type       1101\n",
              "impression_time     850\n",
              "app_code            138\n",
              "os_version            3\n",
              "is_4G                 2\n",
              "is_click              2\n",
              "dtype: int64"
            ]
          },
          "metadata": {},
          "execution_count": 12
        }
      ]
    },
    {
      "cell_type": "code",
      "metadata": {
        "id": "nNVlulqMQXeG"
      },
      "source": [
        "df.drop(['server_time','impression_time','device_type','user_id'],axis=1,inplace=True)"
      ],
      "execution_count": null,
      "outputs": []
    },
    {
      "cell_type": "code",
      "metadata": {
        "id": "QRqnlCcgUR3O"
      },
      "source": [],
      "execution_count": null,
      "outputs": []
    },
    {
      "cell_type": "code",
      "metadata": {
        "colab": {
          "base_uri": "https://localhost:8080/",
          "height": 206
        },
        "id": "emenH4liWzpP",
        "outputId": "346cd3d3-36af-49c8-ef59-5223bde1a068"
      },
      "source": [
        "from sklearn.preprocessing import LabelEncoder\n",
        "le=LabelEncoder()\n",
        "df['os_version']= le.fit_transform(df['os_version'])\n",
        "df.head()"
      ],
      "execution_count": null,
      "outputs": [
        {
          "output_type": "execute_result",
          "data": {
            "text/html": [
              "<div>\n",
              "<style scoped>\n",
              "    .dataframe tbody tr th:only-of-type {\n",
              "        vertical-align: middle;\n",
              "    }\n",
              "\n",
              "    .dataframe tbody tr th {\n",
              "        vertical-align: top;\n",
              "    }\n",
              "\n",
              "    .dataframe thead th {\n",
              "        text-align: right;\n",
              "    }\n",
              "</style>\n",
              "<table border=\"1\" class=\"dataframe\">\n",
              "  <thead>\n",
              "    <tr style=\"text-align: right;\">\n",
              "      <th></th>\n",
              "      <th>session_id</th>\n",
              "      <th>item_id</th>\n",
              "      <th>item_price</th>\n",
              "      <th>category</th>\n",
              "      <th>product_type</th>\n",
              "      <th>app_code</th>\n",
              "      <th>os_version</th>\n",
              "      <th>is_4G</th>\n",
              "      <th>is_click</th>\n",
              "    </tr>\n",
              "  </thead>\n",
              "  <tbody>\n",
              "    <tr>\n",
              "      <th>0</th>\n",
              "      <td>268465</td>\n",
              "      <td>44459</td>\n",
              "      <td>4602</td>\n",
              "      <td>11</td>\n",
              "      <td>3040</td>\n",
              "      <td>422</td>\n",
              "      <td>2</td>\n",
              "      <td>0</td>\n",
              "      <td>0</td>\n",
              "    </tr>\n",
              "    <tr>\n",
              "      <th>1</th>\n",
              "      <td>268465</td>\n",
              "      <td>44459</td>\n",
              "      <td>3513</td>\n",
              "      <td>12</td>\n",
              "      <td>6822</td>\n",
              "      <td>467</td>\n",
              "      <td>1</td>\n",
              "      <td>1</td>\n",
              "      <td>1</td>\n",
              "    </tr>\n",
              "    <tr>\n",
              "      <th>2</th>\n",
              "      <td>268465</td>\n",
              "      <td>44459</td>\n",
              "      <td>825</td>\n",
              "      <td>17</td>\n",
              "      <td>1619</td>\n",
              "      <td>259</td>\n",
              "      <td>0</td>\n",
              "      <td>1</td>\n",
              "      <td>0</td>\n",
              "    </tr>\n",
              "    <tr>\n",
              "      <th>3</th>\n",
              "      <td>268465</td>\n",
              "      <td>44459</td>\n",
              "      <td>2355</td>\n",
              "      <td>13</td>\n",
              "      <td>5264</td>\n",
              "      <td>244</td>\n",
              "      <td>1</td>\n",
              "      <td>1</td>\n",
              "      <td>0</td>\n",
              "    </tr>\n",
              "    <tr>\n",
              "      <th>4</th>\n",
              "      <td>268465</td>\n",
              "      <td>44459</td>\n",
              "      <td>1267</td>\n",
              "      <td>17</td>\n",
              "      <td>10239</td>\n",
              "      <td>473</td>\n",
              "      <td>1</td>\n",
              "      <td>0</td>\n",
              "      <td>0</td>\n",
              "    </tr>\n",
              "  </tbody>\n",
              "</table>\n",
              "</div>"
            ],
            "text/plain": [
              "   session_id  item_id  item_price  ...  os_version  is_4G  is_click\n",
              "0      268465    44459        4602  ...           2      0         0\n",
              "1      268465    44459        3513  ...           1      1         1\n",
              "2      268465    44459         825  ...           0      1         0\n",
              "3      268465    44459        2355  ...           1      1         0\n",
              "4      268465    44459        1267  ...           1      0         0\n",
              "\n",
              "[5 rows x 9 columns]"
            ]
          },
          "metadata": {},
          "execution_count": 14
        }
      ]
    },
    {
      "cell_type": "code",
      "metadata": {
        "id": "0NNduSU6IB-_"
      },
      "source": [
        "from sklearn import preprocessing\n",
        "scale= preprocessing.MinMaxScaler(feature_range=(0,1))\n",
        "data_rescaled=scale.fit_transform(df)"
      ],
      "execution_count": null,
      "outputs": []
    },
    {
      "cell_type": "code",
      "metadata": {
        "id": "XU03TM99UmCi"
      },
      "source": [
        "from sklearn.linear_model import LogisticRegression\n",
        "from sklearn.metrics import classification_report\n",
        "from sklearn.metrics import accuracy_score\n",
        "from sklearn.model_selection import train_test_split\n",
        "\n",
        "X = df.iloc[:, :-1]\n",
        "# y = target values, last column of the data frame\n",
        "y = df['is_click']\n",
        "#Split the data into 80% training and 20% testing\n",
        "x_train, x_test, y_train, y_test = train_test_split(X, y, test_size=0.2, random_state=42)"
      ],
      "execution_count": null,
      "outputs": []
    },
    {
      "cell_type": "code",
      "metadata": {
        "colab": {
          "base_uri": "https://localhost:8080/"
        },
        "id": "3Nv8faJpWBEO",
        "outputId": "499d9ff4-a43d-4519-80b4-91deadf6bd32"
      },
      "source": [
        "lr=LogisticRegression()\n",
        "lr.fit(x_train, y_train)\n",
        "pred=lr.predict(x_test)\n",
        "print( classification_report(y_test, pred) )\n",
        "print( accuracy_score(y_test, pred))"
      ],
      "execution_count": null,
      "outputs": [
        {
          "output_type": "stream",
          "name": "stdout",
          "text": [
            "              precision    recall  f1-score   support\n",
            "\n",
            "           0       0.95      1.00      0.97       383\n",
            "           1       0.00      0.00      0.00        22\n",
            "\n",
            "    accuracy                           0.95       405\n",
            "   macro avg       0.47      0.50      0.49       405\n",
            "weighted avg       0.89      0.95      0.92       405\n",
            "\n",
            "0.945679012345679\n"
          ]
        },
        {
          "output_type": "stream",
          "name": "stderr",
          "text": [
            "/usr/local/lib/python3.7/dist-packages/sklearn/metrics/_classification.py:1272: UndefinedMetricWarning: Precision and F-score are ill-defined and being set to 0.0 in labels with no predicted samples. Use `zero_division` parameter to control this behavior.\n",
            "  _warn_prf(average, modifier, msg_start, len(result))\n"
          ]
        }
      ]
    },
    {
      "cell_type": "code",
      "metadata": {
        "colab": {
          "base_uri": "https://localhost:8080/"
        },
        "id": "URnJ_8sk4phV",
        "outputId": "68cb38f3-1921-49d4-cac4-4e4e7c9339bd"
      },
      "source": [
        "lr.score(x_test,y_test)"
      ],
      "execution_count": null,
      "outputs": [
        {
          "output_type": "execute_result",
          "data": {
            "text/plain": [
              "0.945679012345679"
            ]
          },
          "metadata": {},
          "execution_count": 17
        }
      ]
    },
    {
      "cell_type": "code",
      "metadata": {
        "id": "p-fCAgilX-R-"
      },
      "source": [
        "from sklearn.neighbors import KNeighborsClassifier\n",
        "acc_value=[]\n",
        "neighbors=np.arange(3,15)\n",
        "for k in neighbors:\n",
        "  classifier =KNeighborsClassifier(n_neighbors=k,metric='minkowski')\n",
        "  classifier.fit(x_train,y_train)\n",
        "  y_pred = classifier.predict(x_test)\n",
        "  acc=accuracy_score(y_test,y_pred)\n",
        "  acc_value.append(acc)"
      ],
      "execution_count": null,
      "outputs": []
    },
    {
      "cell_type": "code",
      "metadata": {
        "colab": {
          "base_uri": "https://localhost:8080/"
        },
        "id": "XNUoi3I6sEwy",
        "outputId": "9b2f2653-323e-4070-a23f-c475c9c6247d"
      },
      "source": [
        "acc_value"
      ],
      "execution_count": null,
      "outputs": [
        {
          "output_type": "execute_result",
          "data": {
            "text/plain": [
              "[0.9358024691358025,\n",
              " 0.9432098765432099,\n",
              " 0.9382716049382716,\n",
              " 0.945679012345679,\n",
              " 0.945679012345679,\n",
              " 0.945679012345679,\n",
              " 0.945679012345679,\n",
              " 0.945679012345679,\n",
              " 0.945679012345679,\n",
              " 0.945679012345679,\n",
              " 0.945679012345679,\n",
              " 0.945679012345679]"
            ]
          },
          "metadata": {},
          "execution_count": 15
        }
      ]
    },
    {
      "cell_type": "code",
      "metadata": {
        "colab": {
          "base_uri": "https://localhost:8080/"
        },
        "id": "YtWxvf_KsG6t",
        "outputId": "a213b969-8e56-4930-b60c-ce748f2d3940"
      },
      "source": [
        "print('ACCURACY IS:',accuracy_score(y_test,y_pred))"
      ],
      "execution_count": null,
      "outputs": [
        {
          "output_type": "stream",
          "name": "stdout",
          "text": [
            "ACCURACY IS: 0.945679012345679\n"
          ]
        }
      ]
    },
    {
      "cell_type": "code",
      "metadata": {
        "colab": {
          "base_uri": "https://localhost:8080/",
          "height": 165
        },
        "id": "aV3EQx3nH14o",
        "outputId": "23cd02eb-61f8-478e-fad3-20267403a230"
      },
      "source": [],
      "execution_count": null,
      "outputs": [
        {
          "output_type": "error",
          "ename": "NameError",
          "evalue": "ignored",
          "traceback": [
            "\u001b[0;31m---------------------------------------------------------------------------\u001b[0m",
            "\u001b[0;31mNameError\u001b[0m                                 Traceback (most recent call last)",
            "\u001b[0;32m<ipython-input-21-430e012b2078>\u001b[0m in \u001b[0;36m<module>\u001b[0;34m()\u001b[0m\n\u001b[0;32m----> 1\u001b[0;31m \u001b[0mconfusion_matrix\u001b[0m\u001b[0;34m(\u001b[0m\u001b[0my_test\u001b[0m\u001b[0;34m,\u001b[0m \u001b[0my_pred\u001b[0m\u001b[0;34m)\u001b[0m\u001b[0;34m\u001b[0m\u001b[0;34m\u001b[0m\u001b[0m\n\u001b[0m",
            "\u001b[0;31mNameError\u001b[0m: name 'confusion_matrix' is not defined"
          ]
        }
      ]
    },
    {
      "cell_type": "code",
      "metadata": {
        "colab": {
          "base_uri": "https://localhost:8080/"
        },
        "id": "jTwhtDJaSuuw",
        "outputId": "9f999a30-7822-4962-9b6c-e4678f3dd006"
      },
      "source": [
        "from sklearn.linear_model import LogisticRegression\n",
        "from sklearn.neighbors import KNeighborsClassifier as KNN\n",
        "from sklearn.tree import DecisionTreeClassifier\n",
        "\n",
        "# Instantiate lr\n",
        "lr = LogisticRegression(random_state=42)\n",
        "\n",
        "# Instantiate knn\n",
        "knn = KNN(n_neighbors=10)\n",
        "\n",
        "# Instantiate dt\n",
        "dt = DecisionTreeClassifier(min_samples_leaf=0.13, random_state=42)\n",
        "\n",
        "# Define the list classifiers\n",
        "classifiers = [('Logistic Regression', lr), ('K Nearest Neighbours', knn), ('Classification Tree', dt)]\n",
        "\n",
        "from sklearn.metrics import accuracy_score\n",
        "for clf_name,clf in classifiers:\n",
        "    clf.fit(x_train,y_train)\n",
        "    y_pred=clf.predict(x_test)\n",
        "\n",
        "    accuracy=accuracy_score(y_test,y_pred)\n",
        "\n",
        "    print('{:s} : {:.3f}'.format(clf_name, accuracy))"
      ],
      "execution_count": null,
      "outputs": [
        {
          "output_type": "stream",
          "name": "stdout",
          "text": [
            "Logistic Regression : 0.946\n",
            "K Nearest Neighbours : 0.946\n",
            "Classification Tree : 0.946\n"
          ]
        }
      ]
    },
    {
      "cell_type": "code",
      "metadata": {
        "id": "OOqbd302S8dL"
      },
      "source": [],
      "execution_count": null,
      "outputs": []
    }
  ]
}